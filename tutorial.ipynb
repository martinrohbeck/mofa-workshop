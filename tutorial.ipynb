{
 "cells": [
  {
   "cell_type": "markdown",
   "metadata": {},
   "source": [
    "# Analysis of Multi-Omics Data of CLL Patients"
   ]
  },
  {
   "cell_type": "markdown",
   "metadata": {},
   "source": [
    "## Overview\n",
    "\n",
    "The data consist of $N=200$ blood samples from a cohort of Chronic Lymphocytic Leukemia (CLL) patients, where four omics data types were profiled: DNA methylation (450K Illumina microarray), bulk RNA-seq, somatic mutations and ex-vivo drug response assay. The dataset was introduced in detail by @Dietrich:JCI:2018 and can be downloaded [here](http://bioconductor.org/packages/release/data/experiment/html/BloodCancerMultiOmics2017.html). \n",
    "Its MOFA analysis was originally published by @Argelaguet:MolSysBiol:2018, and refined by @Lu:NatCancer:2021.\n",
    "\n",
    "A detailed explanation of the data can be found [in this paper](https://www.jci.org/articles/view/93801). "
   ]
  },
  {
   "cell_type": "code",
   "execution_count": null,
   "metadata": {},
   "outputs": [],
   "source": [
    "import warnings\n",
    "\n",
    "warnings.simplefilter(action=\"ignore\", category=FutureWarning)"
   ]
  },
  {
   "cell_type": "code",
   "execution_count": null,
   "metadata": {},
   "outputs": [],
   "source": [
    "import scanpy as sc\n",
    "import muon as mu\n",
    "import pandas as pd\n",
    "import numpy as np\n",
    "import seaborn as sns\n",
    "import mofax as mfx\n",
    "import matplotlib.pyplot as plt"
   ]
  },
  {
   "cell_type": "markdown",
   "metadata": {},
   "source": [
    "## Load Data\n",
    "\n",
    "We load the data and ensure we have features in the columns, and samples in the rows:"
   ]
  },
  {
   "cell_type": "code",
   "execution_count": null,
   "metadata": {},
   "outputs": [],
   "source": [
    "mrna = pd.read_csv(\"data/cll_mrna.csv\", index_col=0).T\n",
    "drugs = pd.read_csv(\"data/cll_drugs.csv\", index_col=0).T\n",
    "mutations = pd.read_csv(\"data/cll_mutations.csv\", index_col=0).T\n",
    "methylation = pd.read_csv(\"data/cll_methylation.csv\", index_col=0).T\n",
    "\n",
    "drug_names = pd.read_csv(\"data/drugs.txt\", sep=\",\", index_col=0)\n",
    "metadata = pd.read_csv(\"data/metadata.txt\", sep=\"\\t\", index_col=0)\n",
    "\n",
    "print(f\"RNA Shape: {mrna.shape}\")\n",
    "print(f\"Drugs Shape: {drugs.shape}\")\n",
    "print(f\"Mutations Shape: {mutations.shape}\")\n",
    "print(f\"Methylation Shape: {methylation.shape}\")\n",
    "print(f\"Metadata Shape: {metadata.shape}\")\n",
    "print(f\"Drug Names Shape: {drug_names.shape}\")"
   ]
  },
  {
   "cell_type": "markdown",
   "metadata": {},
   "source": [
    "## Data Properties"
   ]
  },
  {
   "cell_type": "markdown",
   "metadata": {},
   "source": [
    "### mRNA expression\n",
    "\n",
    "The mRNA expression were normalised by library size, followed by a variance stabilizing transformation using [DESeq2](https://bioconductor.org/packages/release/bioc/html/DESeq2.html) in R: Statistical methods like clustering and PCA, commonly used in exploratory analysis of multidimensional data such as gene expression levels in RNA-Seq data, assume homoskedasticity, where the variability of data points is constant across different mean values. However, RNA-Seq data often exhibit heteroskedasticity, meaning the variance of gene expression levels increases with their mean. This discrepancy necessitates the use of specialized statistical approaches that can accurately account for the variable spread of data points to ensure reliable analysis or require preprocessing the data."
   ]
  },
  {
   "cell_type": "code",
   "execution_count": null,
   "metadata": {},
   "outputs": [],
   "source": [
    "mrna.head()"
   ]
  },
  {
   "cell_type": "code",
   "execution_count": null,
   "metadata": {},
   "outputs": [],
   "source": [
    "sns.histplot(mrna.values.flatten(), bins=50, kde=False)"
   ]
  },
  {
   "cell_type": "markdown",
   "metadata": {},
   "source": [
    "### DNA Methylation\n",
    "\n",
    "DNA methylation was calculated for every CpG site using the [M-value](https://bmcbioinformatics.biomedcentral.com/articles/10.1186/1471-2105-11-587), which provides a better summary statistic for downstream analysis. For the MOFA analysis we selected the top 1% ($N=4248$) most variable sites."
   ]
  },
  {
   "cell_type": "code",
   "execution_count": null,
   "metadata": {},
   "outputs": [],
   "source": [
    "methylation.head()"
   ]
  },
  {
   "cell_type": "code",
   "execution_count": null,
   "metadata": {},
   "outputs": [],
   "source": [
    "sns.histplot(methylation.values.flatten(), bins=50, kde=False)"
   ]
  },
  {
   "cell_type": "markdown",
   "metadata": {},
   "source": [
    "### Somatic Mutations\n",
    "Mutations were assessed using a panel of common cancer mutations and are summarised in a binary format (0=no mutation, 1=mutaton):\n"
   ]
  },
  {
   "cell_type": "code",
   "execution_count": null,
   "metadata": {},
   "outputs": [],
   "source": [
    "mutations.head()"
   ]
  },
  {
   "cell_type": "code",
   "execution_count": null,
   "metadata": {},
   "outputs": [],
   "source": [
    "sns.histplot(mutations.values.flatten(), bins=50, kde=False)"
   ]
  },
  {
   "cell_type": "markdown",
   "metadata": {},
   "source": [
    "### Drugs\n",
    "\n",
    "The authors measured the effect of multiple drugs *ex vivo* using a high-throughput platform. For each drug they used 5 concentrations. The value reported is the viability score (0=all cells died, 1=no cells died). \n",
    "\n",
    "The mapping of Drug ID to Compound and Main Target can be found in App. 6: https://www.jci.org/articles/view/93801/sd/1"
   ]
  },
  {
   "cell_type": "code",
   "execution_count": null,
   "metadata": {},
   "outputs": [],
   "source": [
    "drugs.head()"
   ]
  },
  {
   "cell_type": "code",
   "execution_count": null,
   "metadata": {},
   "outputs": [],
   "source": [
    "sns.histplot(drugs.values.flatten(), bins=50, kde=False)"
   ]
  },
  {
   "cell_type": "markdown",
   "metadata": {},
   "source": [
    "### <span style=\"color:red\">Questions</span>\n",
    "\n",
    "1) Compute and visualize (e.g., using a heatmap) the number of missing samples and features per modality  \n",
    "  A: ...  \n",
    "2) What are common strategies to impute these values?  \n",
    "  A: ...  "
   ]
  },
  {
   "cell_type": "markdown",
   "metadata": {},
   "source": [
    "### Metadata\n",
    "\n",
    "Important columns are:  \n",
    "\n",
    "- **Gender**: m (male), f (female)\n",
    "- **Age**: age in years\n",
    "- **TTT**: time (in years) which passed from taking the sample to the next treatment\n",
    "- **TTD**: time (in years) which passed from taking the sample to patients' death\n",
    "- **treatedAfter**: (TRUE/FALSE)\n",
    "- **died**: whether the patient died (TRUE/FALSE)"
   ]
  },
  {
   "cell_type": "code",
   "execution_count": null,
   "metadata": {},
   "outputs": [],
   "source": [
    "metadata.head()"
   ]
  },
  {
   "cell_type": "markdown",
   "metadata": {},
   "source": [
    "For some of the correlation analysis in the following, we want to treat `sex` (*Gender* is a sociological concept, *sex* a biological. While they are related, in analyses such as here we usually care more about the latter) and `died` as numeric variables, and hence we create these here. "
   ]
  },
  {
   "cell_type": "code",
   "execution_count": null,
   "metadata": {},
   "outputs": [],
   "source": [
    "metadata[\"sex\"] = metadata[\"Gender\"].map({\"m\": 0, \"f\": 1})\n",
    "metadata[\"died\"] = metadata[\"died\"].map({True: 1.0, False: 0.0})"
   ]
  },
  {
   "cell_type": "markdown",
   "metadata": {},
   "source": [
    "#### Rename mRNA from ENSEMBL IDs\n",
    "E.g., ENSG00000223972 to gene names DDX11L1"
   ]
  },
  {
   "cell_type": "code",
   "execution_count": null,
   "metadata": {},
   "outputs": [],
   "source": [
    "gene_ids = pd.read_csv(\"data/cll_gene_ids.csv\", index_col=0)\n",
    "cols = list(mrna.columns)\n",
    "\n",
    "# Replace each value in cols with the corrsponding value in the gene_ids dataframe\n",
    "cols = [gene_ids.loc[gene_ids[\"GENEID\"] == gene, \"SYMBOL\"].item() for gene in cols]\n",
    "mrna.columns = cols\n",
    "\n",
    "# avoid duplicated names with the Mutations view\n",
    "mutations.columns = [f\"m_{x}\" for x in mutations.columns]"
   ]
  },
  {
   "cell_type": "markdown",
   "metadata": {},
   "source": [
    "#### Rename drug names\n",
    "E.g., D_001 to drug name navitoclax"
   ]
  },
  {
   "cell_type": "markdown",
   "metadata": {},
   "source": [
    "### <span style=\"color:red\">Questions</span>\n",
    "\n",
    "1) Replace the drug names"
   ]
  },
  {
   "cell_type": "markdown",
   "metadata": {},
   "source": [
    "## Data Preprocessing for Analysis\n",
    "\n",
    "AnnData documentation: https://anndata.readthedocs.io/en/latest/"
   ]
  },
  {
   "cell_type": "code",
   "execution_count": null,
   "metadata": {},
   "outputs": [],
   "source": [
    "mrna = sc.AnnData(mrna)\n",
    "methylation = sc.AnnData(methylation)\n",
    "drugs = sc.AnnData(drugs)\n",
    "mutations = sc.AnnData(mutations)"
   ]
  },
  {
   "cell_type": "markdown",
   "metadata": {},
   "source": [
    "### mRNA\n",
    "\n",
    "To improve the computational efficiency, we focus our analysis on the top `k` highly variable genes. Feel free, to vary this number based on your hardware."
   ]
  },
  {
   "cell_type": "code",
   "execution_count": null,
   "metadata": {},
   "outputs": [],
   "source": [
    "# Select highly variable genes\n",
    "sc.pp.highly_variable_genes(mrna, n_top_genes=2500)\n",
    "mrna = mrna[:, mrna.var.highly_variable]"
   ]
  },
  {
   "cell_type": "code",
   "execution_count": null,
   "metadata": {},
   "outputs": [],
   "source": [
    "fig, ax = plt.subplots(1, 1, figsize=(12.5, 5))\n",
    "sns.heatmap(mrna.X)\n",
    "ax.set_xlabel(\"Genes\")\n",
    "ax.set_ylabel(\"Cells\")\n",
    "plt.show()"
   ]
  },
  {
   "cell_type": "markdown",
   "metadata": {},
   "source": [
    "### Create MUON object\n",
    "\n",
    "Muon is built to handle MuData (multimodal data) objects, similar to how scanpy and AnnData focus on scRNA-seq data in Python, with individual modalities within MuData being represented using AnnData objects.\n",
    "\n",
    "It's a convenient way to store, manage and process data from multiple modalities. See the package documentation [here](https://muon.readthedocs.io/en/latest/)."
   ]
  },
  {
   "cell_type": "code",
   "execution_count": null,
   "metadata": {},
   "outputs": [],
   "source": [
    "mods = {\n",
    "    \"mrna\": mrna,\n",
    "    \"methylation\": methylation,\n",
    "    \"drugs\": drugs,\n",
    "    \"mutations\": mutations,\n",
    "}\n",
    "\n",
    "mdata = mu.MuData(mods)\n",
    "mdata.obs = mdata.obs.join(metadata)\n",
    "mdata"
   ]
  },
  {
   "cell_type": "markdown",
   "metadata": {},
   "source": [
    "Muon allows you to run a variety of analyses on your data, e.g., MOFA with `muon.pl.mofa`, directly."
   ]
  },
  {
   "cell_type": "markdown",
   "metadata": {},
   "source": [
    "## Train a MOFA model\n",
    "\n",
    "Now, we are going to create a MOFA object and then an integration optimization.\n",
    "\n",
    "Some selected arguments of the MOFA wrapper are:\n",
    "- *n_factors*: number of factors\n",
    "- *likelihoods*: likelihood per view (options are “gaussian”, “poisson”, “bernoulli”). Default is guessed from the data.\n",
    "- *ard_weights*: use ARD prior on the weights? Default is TRUE if using multiple views.\n",
    "- *ard_factors*: use ARD prior on the factors? Default is TRUE if using multiple groups.\n",
    "- *spikeslab_weights*: use spike-slab sparsity prior in the weights? default is TRUE.\n",
    "- *spikeslab_factors*: use spike-slab sparsity prior in the factors? default is FALSE.\n",
    "- *convergence_mode*: fast, medium, or slow convergence \n",
    "- *use_obs*: optional: strategy to deal with samples (cells) not being the same across modalities (\"union\" or \"intersection\")"
   ]
  },
  {
   "cell_type": "markdown",
   "metadata": {},
   "source": [
    "### <span style=\"color:red\">Questions</span>\n",
    "\n",
    "1) What about missing data points?  \n",
    "    A: ...\n",
    "2) What likelihoods should we pass to the model? Is it a problem, if we chose an incorrect one?  \n",
    "    A: ...\n",
    "3) How can we find a good number of factors?  \n",
    "    A: ..."
   ]
  },
  {
   "cell_type": "code",
   "execution_count": null,
   "metadata": {},
   "outputs": [],
   "source": [
    "mu.tl.mofa(\n",
    "    mdata,\n",
    "    use_obs=\"union\",\n",
    "    n_factors=10,\n",
    "    convergence_mode=\"medium\",\n",
    "    outfile=\"models/cll_v2.hdf5\",\n",
    "    save_metadata=True,\n",
    "    save_data=True,\n",
    "    verbose=False,\n",
    ")"
   ]
  },
  {
   "cell_type": "markdown",
   "metadata": {},
   "source": [
    "## Analysis and Interpretation of the Results"
   ]
  },
  {
   "cell_type": "markdown",
   "metadata": {},
   "source": [
    "Scatter plot in MOFA factors coordinates"
   ]
  },
  {
   "cell_type": "code",
   "execution_count": null,
   "metadata": {},
   "outputs": [],
   "source": [
    "mdata.obs.IGHV = (\n",
    "    mdata.obs.IGHV.astype(str)\n",
    "    .astype(\"category\")\n",
    "    .cat.rename_categories({\"M\": \"mutated\", \"U\": \"unmutated\"})\n",
    ")\n",
    "mu.pl.mofa(mdata, color=\"IGHV\")"
   ]
  },
  {
   "cell_type": "code",
   "execution_count": null,
   "metadata": {},
   "outputs": [],
   "source": [
    "# Load the model with mofax\n",
    "model = mfx.mofa_model(\"models/cll_v2.hdf5\")\n",
    "model"
   ]
  },
  {
   "cell_type": "markdown",
   "metadata": {},
   "source": [
    "##### Weights & Factors"
   ]
  },
  {
   "cell_type": "code",
   "execution_count": null,
   "metadata": {},
   "outputs": [],
   "source": [
    "fig, ax = plt.subplots(1, 2, figsize=(12.5, 5))\n",
    "sns.heatmap(model.get_factors(), ax=ax[0], cmap=\"seismic\", center=0)\n",
    "sns.heatmap(model.get_weights(), ax=ax[1], cmap=\"seismic\", center=0)\n",
    "ax[0].set_title(\"Factors\")\n",
    "ax[1].set_title(\"Weights\")"
   ]
  },
  {
   "cell_type": "markdown",
   "metadata": {},
   "source": [
    "##### Factor Correlation\n",
    "\n",
    "A good sanity check is to verify that the Factors are largely uncorrelated. In MOFA there are no orthogonality constraints such as\n",
    "in Principal Component Analysis, but if there is a lot of correlation between Factors this suggests a poor model fit. Reasons?\n",
    "Perhaps you used too many factors or perhaps the normalisation is not adequate."
   ]
  },
  {
   "cell_type": "code",
   "execution_count": null,
   "metadata": {},
   "outputs": [],
   "source": [
    "mfx.plot_weights_correlation(model)"
   ]
  },
  {
   "cell_type": "markdown",
   "metadata": {},
   "source": [
    "##### Variance Explained\n",
    "\n",
    "The most important insight that MOFA generates is the variance decomposition analysis. This plot shows the percentage of\n",
    "variance explained by each factor across each data modality (and group, if provided). It summarises the source\n",
    "of variation from a complex heterogeneous data set in a single figure."
   ]
  },
  {
   "cell_type": "code",
   "execution_count": null,
   "metadata": {},
   "outputs": [],
   "source": [
    "mfx.plot_r2(model, vmax=15, x=\"View\")"
   ]
  },
  {
   "cell_type": "markdown",
   "metadata": {},
   "source": [
    "What insights from the data can we learn just from inspecting this plot?\n",
    "\n",
    "    Factor 1 captures a source of variability that is present across all data modalities. Thus, its etiology is likely to be something very important for the disease\n",
    "    Factor 2 captures a very strong source of variation that is exclusive to the drug response data.\n",
    "    Factor 4 captures variation that is present across multiple data modalities, except for DNA methylation. This is likely to be important too.\n",
    "    Factor 3 is capturing some co-variation between the mRNA and the drug response assay.\n"
   ]
  },
  {
   "cell_type": "markdown",
   "metadata": {},
   "source": [
    "### <span style=\"color:red\">Questions</span>\n",
    "\n",
    "Based on the MOFA output, if you were to profile just one molecular layer, which one would you choose to maximise the amount of sources of variation captured?"
   ]
  },
  {
   "cell_type": "markdown",
   "metadata": {},
   "source": [
    "While trying to annotate factors, a global overview of top features defining them could be helpful."
   ]
  },
  {
   "cell_type": "code",
   "execution_count": null,
   "metadata": {},
   "outputs": [],
   "source": [
    "mfx.plot_weights_heatmap(\n",
    "    model,\n",
    "    # n_features=5,\n",
    "    factors=range(0, 7),\n",
    "    xticklabels_size=6,\n",
    "    w_abs=True,\n",
    "    cmap=\"viridis\",\n",
    "    cluster_factors=False,\n",
    ")"
   ]
  },
  {
   "cell_type": "code",
   "execution_count": null,
   "metadata": {},
   "outputs": [],
   "source": [
    "ax = mfx.plot_weights(\n",
    "    model,\n",
    "    views=\"mrna\",\n",
    "    factor=0,\n",
    "    n_features=5,\n",
    "    y_repel_coef=0.04,\n",
    "    x_rank_offset=-150,\n",
    ")"
   ]
  },
  {
   "cell_type": "markdown",
   "metadata": {},
   "source": [
    "### Analysis: Factor 1 | \"Give it a Name\""
   ]
  },
  {
   "cell_type": "markdown",
   "metadata": {},
   "source": [
    "Ways to understande the underlying signal of a factor:  \n",
    "    - association between the metadata and the factor values  \n",
    "    - inspection of factor values  \n",
    "    - inspection of feature weights  \n",
    "    - GSEA of the mRNA weights  "
   ]
  },
  {
   "cell_type": "markdown",
   "metadata": {},
   "source": [
    "Each factor captures a different source of variability in the data. Mathematically, each Factor is defined by a linear combination of the input features. Each Factor ordinates cells along a one-dimensional axis that is centered at zero. Samples with different signs manifest opposite phenotypes along the inferred axis of variation, with higher absolute value indicating a stronger effect.\n",
    "Note that the interpretation of MOFA factors is analogous to the interpretation of the principal components in PCA."
   ]
  },
  {
   "cell_type": "code",
   "execution_count": null,
   "metadata": {},
   "outputs": [],
   "source": [
    "fig, ax = plt.subplots(2, 2, figsize=(15, 7.5))\n",
    "sns.heatmap(model.get_weights([\"mrna\"]).T, center=0, cmap=\"vlag\", ax=ax[0, 0])\n",
    "sns.heatmap(model.get_weights([\"methylation\"]).T, center=0, cmap=\"vlag\", ax=ax[0, 1])\n",
    "sns.heatmap(model.get_weights([\"mutations\"]).T, center=0, cmap=\"vlag\", ax=ax[1, 0])\n",
    "sns.heatmap(model.get_weights([\"drugs\"]).T, center=0, cmap=\"vlag\", ax=ax[1, 1])"
   ]
  },
  {
   "cell_type": "markdown",
   "metadata": {},
   "source": [
    "#### Association analysis"
   ]
  },
  {
   "cell_type": "markdown",
   "metadata": {},
   "source": [
    "Let's test for associations between the MOFA factors and some of the covariates:\n"
   ]
  },
  {
   "cell_type": "code",
   "execution_count": null,
   "metadata": {},
   "outputs": [],
   "source": [
    "# Compute log10 of the p-values between factors and covariates\n",
    "mfx.plot_factors_covariates_correlation(\n",
    "    model, covariates=mdata.obs[[\"sex\"]], pvalues=True\n",
    ")"
   ]
  },
  {
   "cell_type": "markdown",
   "metadata": {},
   "source": [
    "E.g. `sex` shows an associations with the survival outcome (whether the patients were deceased). \n",
    "We will explore association with clinical measurements later in the tutorial.  "
   ]
  },
  {
   "cell_type": "markdown",
   "metadata": {},
   "source": [
    "#### Inspection of factor values\n"
   ]
  },
  {
   "cell_type": "markdown",
   "metadata": {},
   "source": [
    "How do we interpret the factor values?\n",
    "Each factor captures a different source of variability in the data. Mathematically, each Factor is defined by a linear combination of the input features. As the data is centered prior to running MOFA, each Factor ordinates cells along a one-dimensional axis that is centered at zero. Samples with different signs manifest opposite phenotypes along the inferred axis of variation, with higher absolute value indicating a stronger effect. Note that the interpretation of MOFA factors is analogous to the interpretation of the principal components in PCA."
   ]
  },
  {
   "cell_type": "code",
   "execution_count": null,
   "metadata": {},
   "outputs": [],
   "source": [
    "fig, ax = plt.subplots(1, 1, figsize=(15, 5))\n",
    "weights_fac_0 = model.get_factors(df=True).iloc[:, 0]\n",
    "plt.scatter(range(200), weights_fac_0, c=weights_fac_0)\n",
    "ax.axhline(0, color=\"k\", linestyle=\"--\")"
   ]
  },
  {
   "cell_type": "markdown",
   "metadata": {},
   "source": [
    "#### Inspection of feature weights\n"
   ]
  },
  {
   "cell_type": "markdown",
   "metadata": {},
   "source": [
    "By looking at the variance explained plot, we saw that Factor 1 captures variation in all data modalities. Out of all omics, the somatic mutation data is a good place to start, as somatic mutations are very sparse, easy to interpret and any change in the DNA is likely to have downstream consequences to all other molecular layers. Let’s plot the weights:"
   ]
  },
  {
   "cell_type": "markdown",
   "metadata": {},
   "source": [
    "**How do we interpret the feature weights?**  \n",
    "The weights provide a score for each feature on each factor. Features with no association with the corresponding factor are expected to have values close to zero, whereas features with strong association with the factor are expected to have large absolute values. The sign of the weights indicates the direction of the effect: a positive weights indicates that the feature has higher levels in the cells with positive factor values, and vice-versa. "
   ]
  },
  {
   "cell_type": "markdown",
   "metadata": {},
   "source": [
    "#### Plot feature weights for somatic mutations\n",
    "\n",
    "By looking at the variance explained plot, we saw that Factor 1 captures variation in all data modalities. Out of all omics, the somatic mutation data is a good place to start, as somatic mutations are very sparse, easy to interpret and any change in the DNA is likely to have downstream consequences to all other molecular layers. Let's plot the weights:"
   ]
  },
  {
   "cell_type": "code",
   "execution_count": null,
   "metadata": {},
   "outputs": [],
   "source": [
    "mfx.plot_weights(\n",
    "    model,\n",
    "    views=[\"mutations\"],\n",
    "    factors=0,\n",
    "    zero_line=True,\n",
    "    ncols=1,\n",
    "    label_size=10,\n",
    "    n_features=6,\n",
    ")"
   ]
  },
  {
   "cell_type": "markdown",
   "metadata": {},
   "source": [
    "Notice that most features lie at zero, indicating that most features have no association with Factor 1. There is however one gene that clearly stands out: IGHV (immunoglobulin heavy chain variable region). [This is the main clinical marker for CLL](https://www.ncbi.nlm.nih.gov/pmc/articles/PMC6355490/).  "
   ]
  },
  {
   "cell_type": "markdown",
   "metadata": {},
   "source": [
    "IGHV has a positve weight. This means that samples with positive Factor 1 values have IGHV mutation whereas samples with negative Factor 1 values do not have the IGHV mutation. To confirm this, let’s plot the Factor values and colour the IGHV mutation status."
   ]
  },
  {
   "cell_type": "code",
   "execution_count": null,
   "metadata": {},
   "outputs": [],
   "source": [
    "df_plot = pd.merge(\n",
    "    model.get_factors(df=True).iloc[:, 0],\n",
    "    model.metadata.IGHV,\n",
    "    left_index=True,\n",
    "    right_index=True,\n",
    ")\n",
    "\n",
    "sns.violinplot(x=\"IGHV\", y=\"Factor1\", data=df_plot, hue=\"IGHV\")\n",
    "sns.swarmplot(x=\"IGHV\", y=\"Factor1\", data=df_plot, hue=\"IGHV\", color=\"k\", alpha=0.5)"
   ]
  },
  {
   "cell_type": "markdown",
   "metadata": {},
   "source": [
    "#### Plot gene weights for mRNA expression\n"
   ]
  },
  {
   "cell_type": "markdown",
   "metadata": {},
   "source": [
    "From the variance explained plot we know that Factor 1 drives variation across all data modalities. Let’s visualise the mRNA expression changes that are associated with Factor 1:"
   ]
  },
  {
   "cell_type": "code",
   "execution_count": null,
   "metadata": {},
   "outputs": [],
   "source": [
    "mfx.plot_weights(\n",
    "    model,\n",
    "    views=[\"mrna\"],\n",
    "    factors=0,\n",
    "    zero_line=True,\n",
    "    ncols=1,\n",
    "    label_size=10,\n",
    "    n_features=6,\n",
    ")"
   ]
  },
  {
   "cell_type": "markdown",
   "metadata": {},
   "source": [
    "#### Plot molecular signatures in the input data \n"
   ]
  },
  {
   "cell_type": "markdown",
   "metadata": {},
   "source": [
    "In this case we have a large amount of genes that have large positive and negative weights. Genes with large positive values will be more expressed in the samples with IGHV mutation, whereas genes with large negative values will be more expressed in the samples without the IGHV mutation. "
   ]
  },
  {
   "cell_type": "code",
   "execution_count": null,
   "metadata": {},
   "outputs": [],
   "source": [
    "fig, ax = plt.subplots(1, 1, figsize=(15, 5))\n",
    "weights_fac_1 = model.get_factors(df=True).iloc[:, 0]\n",
    "df_plot = pd.DataFrame(\n",
    "    mdata.mod[\"mrna\"].X,\n",
    "    columns=mdata.mod[\"mrna\"].var_names,\n",
    "    index=mdata.mod[\"mrna\"].obs_names,\n",
    ")\n",
    "df_plot = df_plot[[\"ZNF667\"]]\n",
    "df_plot = pd.merge(\n",
    "    df_plot, model.get_factors(df=True).iloc[:, 0], left_index=True, right_index=True\n",
    ")\n",
    "df_plot = pd.merge(df_plot, metadata[[\"IGHV\"]], left_index=True, right_index=True)\n",
    "df_plot[\"IGHV\"] = df_plot[\"IGHV\"].astype(str)\n",
    "\n",
    "sns.scatterplot(y=\"ZNF667\", x=\"Factor1\", data=df_plot, hue=\"IGHV\", s=40)"
   ]
  },
  {
   "cell_type": "code",
   "execution_count": null,
   "metadata": {},
   "outputs": [],
   "source": [
    "# Plot distribution of LPL for different IGHV status\n",
    "df_plot = pd.merge(\n",
    "    model.get_factors(df=True).iloc[:, 0],\n",
    "    model.metadata.IGHV,\n",
    "    left_index=True,\n",
    "    right_index=True,\n",
    ")\n",
    "# Join the expression of LPL gene for each sample\n",
    "df_plot = pd.merge(\n",
    "    df_plot,\n",
    "    pd.DataFrame({\"LPL\": mrna[:, \"LPL\"].X.squeeze()}, index=mrna.obs.index),\n",
    "    left_index=True,\n",
    "    right_index=True,\n",
    ")\n",
    "\n",
    "sns.swarmplot(x=\"IGHV\", y=\"Factor1\", data=df_plot, hue=\"LPL\")"
   ]
  },
  {
   "cell_type": "code",
   "execution_count": null,
   "metadata": {},
   "outputs": [],
   "source": [
    "mfx.plot_weights(\n",
    "    model,\n",
    "    views=[\"drugs\"],\n",
    "    factors=0,\n",
    "    zero_line=True,\n",
    "    ncols=1,\n",
    "    label_size=10,\n",
    "    n_features=6,\n",
    ")"
   ]
  },
  {
   "cell_type": "markdown",
   "metadata": {},
   "source": [
    "Focusing on the drug response, we notice PF477736 (D_078), AZD7762 (D_020), AT13387 (D_017), and dasatinib (D_050) have the major association with this factor. Those are the exact top associations with the IGHV status described in the original paper:\n",
    "\n",
    "\"Indeed, the strongest associations of response with IGHV status were observed for dasatinib\n",
    "and for 3 of the drugs already discussed above, the HSP90 inhibitor\n",
    "AT13387 and the CHEK inhibitors PF477736 and AZD7762. These\n",
    "results show how the critical role of BCR signaling renders CLL\n",
    "cells sensitive to a broad range of kinase inhibitors that act by mul-\n",
    "tiple target engagement of BCR components.\" from https://www.huber.embl.de/pub/pdf/Dietrich2018.pdf "
   ]
  },
  {
   "cell_type": "markdown",
   "metadata": {},
   "source": [
    "### GSEA"
   ]
  },
  {
   "cell_type": "code",
   "execution_count": null,
   "metadata": {},
   "outputs": [],
   "source": [
    "import gseapy as gp\n",
    "from gseapy import barplot, dotplot"
   ]
  },
  {
   "cell_type": "code",
   "execution_count": null,
   "metadata": {},
   "outputs": [],
   "source": [
    "fac1 = model.get_weights([\"mrna\"])[:, 3]\n",
    "# Get gene names of all genes with a weight > 0.6\n",
    "gene_list = list(mrna.var_names[fac1 > 0.5])\n",
    "\n",
    "fig, ax = plt.subplots(1, 1, figsize=(10, 2))\n",
    "sns.histplot(fac1, ax=ax)\n",
    "ax.set_title(f\"Factor | {len(gene_list)}\")\n",
    "plt.show()"
   ]
  },
  {
   "cell_type": "code",
   "execution_count": null,
   "metadata": {},
   "outputs": [],
   "source": [
    "# if you are only intrested in dataframe that enrichr returned, please set outdir=None\n",
    "enr = gp.enrichr(\n",
    "    gene_list=gene_list,\n",
    "    gene_sets=[\"MSigDB_Hallmark_2020\", \"KEGG_2021_Human\", \"Reactome_2013\"],\n",
    "    organism=\"human\",\n",
    "    outdir=None,\n",
    "    cutoff=0.05,\n",
    ")"
   ]
  },
  {
   "cell_type": "code",
   "execution_count": null,
   "metadata": {},
   "outputs": [],
   "source": [
    "# Sort by adjusted p-value\n",
    "enr.results.sort_values(\"Adjusted P-value\").head(8)"
   ]
  },
  {
   "cell_type": "code",
   "execution_count": null,
   "metadata": {},
   "outputs": [],
   "source": [
    "ax = barplot(\n",
    "    enr.results,\n",
    "    column=\"Adjusted P-value\",\n",
    "    group=\"Gene_set\",  # set group, so you could do a multi-sample/library comparsion\n",
    "    size=10,\n",
    "    top_term=5,\n",
    "    figsize=(3, 5),\n",
    "    color={\n",
    "        \"MSigDB_Hallmark_2020\": \"red\",\n",
    "        \"KEGG_2021_Human\": \"blue\",\n",
    "        \"Reactome_2013\": \"green\",\n",
    "    },\n",
    ")"
   ]
  },
  {
   "cell_type": "markdown",
   "metadata": {},
   "source": [
    "### End"
   ]
  },
  {
   "cell_type": "code",
   "execution_count": null,
   "metadata": {},
   "outputs": [],
   "source": [
    "# it's always a good idea to close the model after using it\n",
    "model.close()"
   ]
  }
 ],
 "metadata": {
  "kernelspec": {
   "display_name": "moc",
   "language": "python",
   "name": "python3"
  },
  "language_info": {
   "codemirror_mode": {
    "name": "ipython",
    "version": 3
   },
   "file_extension": ".py",
   "mimetype": "text/x-python",
   "name": "python",
   "nbconvert_exporter": "python",
   "pygments_lexer": "ipython3",
   "version": "3.10.13"
  }
 },
 "nbformat": 4,
 "nbformat_minor": 2
}
